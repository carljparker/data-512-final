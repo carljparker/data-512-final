{
 "cells": [
  {
   "cell_type": "markdown",
   "metadata": {},
   "source": [
    "# Impact of Trump super-spreader rallies on COVID-19 deaths in United States #"
   ]
  },
  {
   "cell_type": "markdown",
   "metadata": {},
   "source": [
    "This project investigates the possible effects of Trump campaign rallies on the spread of COVID-19 during the summer and early fall of 2020."
   ]
  },
  {
   "cell_type": "markdown",
   "metadata": {},
   "source": [
    "## Background and Motivation ##"
   ]
  },
  {
   "cell_type": "markdown",
   "metadata": {},
   "source": [
    "Prior to May 25, 2020, COVID-19 deaths in the United States were falling precipitously. On May 25th, that descent slowed dramatically, and then, around the beginning of July, reversed itself, starting a second wave of COVID-19 deaths in the United States. The number of deaths in this second wave, 125K, now exceeds that of the first wave, 100K.\n",
    "\n",
    "The date, May 25, 2020, is significant in that it is the date on which George Floyd died while in police custody in Minneapolis, MN. Subsequent to Floyd's death, protests occurred in over 2,000 cities in the United States. It has been suggested that the George Floyd Protests might have contributed to triggering the second wave of COVID-19. \n",
    "\n",
    "This \"hypothesis\" is confounded, however, by summer political campaigning in the run up to the 2020 Elections. In particular, President Trump was notable for holding campaign rallies in which the president did not follow normative behavior to control COVID-19 infections and neither did many of the rally attendees--possibly following the president's lead. These became known as _super-spreader rallies_. "
   ]
  },
  {
   "cell_type": "markdown",
   "metadata": {},
   "source": [
    "_**The yellow arrows in the two graphs below identify May 26, 2020, that is, the day after George Floyd died while in police custody.**_"
   ]
  },
  {
   "cell_type": "markdown",
   "metadata": {},
   "source": [
    "### COVID-19 deaths: Seven day moving average ###\n",
    "\n",
    "![](viz/2020-10-23_original-screen-capture.png)"
   ]
  },
  {
   "cell_type": "markdown",
   "metadata": {},
   "source": [
    "## Research Question and Hypothesis ##"
   ]
  },
  {
   "cell_type": "markdown",
   "metadata": {},
   "source": [
    "My research question is whether it is possible to identify increases in the spread of COVID-19 subsequent to President Trump's rallies and also proximal to where the rallies were held. \n",
    "\n",
    "My hypothesis is that I _can_ identify increases in COVID-19 mortality associated with President Trump's rallies and that these increases are greater than we would expect given the incidence of COVID-19 prior to each rally."
   ]
  },
  {
   "cell_type": "markdown",
   "metadata": {},
   "source": [
    "## Data ##"
   ]
  },
  {
   "cell_type": "markdown",
   "metadata": {},
   "source": [
    "For data that indicates the **spread of COVID-19**, I will use the _COVID-19 Data Repository by the Center for Systems Science and Engineering (CSSE) at Johns Hopkins University_ hosted on [GitHub](https://github.com/CSSEGISandData/COVID-19).\n",
    "\n",
    "For data on **President Trump's campaign rallies**, I will use the [list maintained on Wikipedia](https://en.wikipedia.org/wiki/List_of_post-election_Donald_Trump_rallies#2020_campaign_rallies).\n",
    "\n",
    "For the **county locations** for President Trump's rallies, I used geocoding information from Bing obtained via the [`geocoder` package](https://geocoder.readthedocs.io/providers/Bing.html)."
   ]
  },
  {
   "cell_type": "markdown",
   "metadata": {},
   "source": [
    "## Methodology ##"
   ]
  },
  {
   "cell_type": "markdown",
   "metadata": {},
   "source": [
    "The Johns-Hopkins data tracks COVID-19 deaths _per county_ in the United States. Using geocoding, I convert the City-State locations for President Trump's rallies, from Wikipedia, into county locations. I then collect COVID-19 related death statistics for each of the counties from the Johns-Hopkins data.\n",
    "\n",
    "I compare the number of deaths for a specific time interval _before_ each rally to the number of deaths for that same time interval _after_ the rally. I represent this comparison as a percentage change. I expect this percentage to be uniformly greater than one.\n",
    "\n",
    "_The time interval I have chosen is **42 days (six weeks)**._ This is the longest interval that I could use and still include the most-recent rallies that occurred on November 2, 2020."
   ]
  },
  {
   "cell_type": "markdown",
   "metadata": {},
   "source": [
    "## Deaths vs Infections (\"Cases\") ##"
   ]
  },
  {
   "cell_type": "markdown",
   "metadata": {},
   "source": [
    "Early feedback questioned measuring deaths vs infections aka \"cases\".\n",
    "\n",
    "A _**case**_ is typically defined simply as a positive test result. Therefore, the term _case_ is a bit misleading in that it _seems_ to imply that someone is sick, but actually it doesn't imply that someone is symptomatic or that they are contagious or even that they are recently infected. An individual could have been infected by COVID-19 months earlier, been mostly (or perhaps completely) asymptomatic and therefore not even know that they were infected. Much later, they are tested and show up as positive. The irony of such cases is that not only is the individual not a danger to others, they actually make the community safer by virtue of their immunity.\n",
    "\n",
    "At the same time, measuring deaths is not without issues either. The main issue is that there might be a significant interval between when an individual is infected by COVID-19 and when they die. For the purposes of this project--in which I am trying to measure the contribution of President Trump's rallies to the spread of the virus--if I measure deaths inside a relatively short interval after the rally then I risk not capturing those deaths that haven't yet occurred. On the other hand, if I extend the interval, I risk that the deaths that I capture in the data might actually have been caused by viral spread from other factors.\n",
    "\n",
    "All that said, I chose to measure deaths rather than cases. In addition to the factors above, I chose deaths because, in the final analysis, it is the outcome that we care most about. If people only became infected with COVID-19, but never died, the current pandemic would probably have much less urgency."
   ]
  },
  {
   "cell_type": "markdown",
   "metadata": {},
   "source": [
    "## Limitations: Unknowns that could affect the results ##"
   ]
  },
  {
   "cell_type": "markdown",
   "metadata": {},
   "source": [
    "I have, so far, identified a number of unknowns that could affect the accuracy of the results of this investigation.\n",
    "\n",
    "- **We don’t know how many people were at each rally.** There could be a lot of variability there, and the number of people at the rally is (almost certainly) an important factor in how many people contract the virus at the rally and therefore how much the virus could spread in the aftermath of the rally.\n",
    "- **We don’t know if the people who attended a rally resided in the county where the rally was held.** They might have traveled there and then gone back home afterwards . . . and infected people in their home county. The subsequent deaths would then show up in that county rather than the one in which the rally was held. \n",
    "- **Trump's rallies are not uniformly distributed across the United States.** This could be for reasons such as campaign strategy. But in any case, regional differences between areas that hosted the rallies and those that didn't could introduce bias into the data. These differences could include local and state policies with respect to behaviors, such as masking, that affect the spread of COVID-19. Also, on a more subtle level, regional differences in culture could also affect viral spread. Some areas, irrespective of official policies, might be more or less likely to spread the vius. For example, the culture in Seattle, WA has a reputation for being somewhat insular. Early in the pandemic, the (relatively) slow community spread in Seattle was attributed to this cultural characteristic."
   ]
  },
  {
   "cell_type": "markdown",
   "metadata": {},
   "source": [
    "## Prior work: Stanford University Study ##"
   ]
  },
  {
   "cell_type": "markdown",
   "metadata": {},
   "source": [
    "I was able to find only a single investigation into the effects of President Trump's rallies on the spread of COVID-19: [The Effects of Large Group Meetings on the Spread of COVID-19: The Case of Trump Rallies (October, 2020)](https://siepr.stanford.edu/research/publications/effects-large-group-meetings-spread-covid-19-case-trump-rallies) by B. Douglas Bernheim, Nina Buchmann, Zach Freitas-Groff, Sebastián Otero of Stanford University's Institute for Economic Policy Research (SIEPR). \n",
    "\n",
    "The study investigated 18 rallies between June 20, 2020 and September 22, 2020. It uses COVID-19 case data from the Johns-Hopkins data respository. It analyzes the data for the county where each rally was held for the ten weeks following the rally. It compares the number of cases during this period with number of cases in a \"placebo\" county that did not host a Trump rally. The study estimate that the 18 Trump rallies resulted in more than 30,000 incremental cases of COVID-19 and 700 deaths. \n",
    "\n",
    "Considerations with the Stanford study and comparison to the current study:\n",
    "\n",
    "- The Stanford study investigates **18** rallies; the current study investigates **66** rallies.\n",
    "- The Stanford study compares the counties where rallies were held _to placebo counties_; the current study compares each county _to itself pre and post the rally date_.\n",
    "- Both the Stanford study and the current study use data from the Johns-Hopkins data repository.\n",
    "- The Stanford study uses **case data**; the current study uses **mortality data (deaths)**. \n",
    "- The Stanford study tracks COVID-19 cases for the **ten weeks** following each rally; the curent study tracks deaths for the **six weeks** following each rally\n",
    "- The Stanford study's estimate of 700 deaths is based on the _death rate_ for the county in question. It is not clear why the Stanford study didn't directly use the mortality data from Johns-Hopkins.\n",
    "- Although the Stanford study compares the Trump-rally counties to placebo counties, it doesn't provide the names of the placebo counties. Therefore, reproducibility of the Stanford study is hindered.\n",
    "- For the current study, I also considered comparing to a set of _control counties_. However, selecting a set of such counties turned out to be remarkably fraught; so instead, I settled on a much simpler methodology. It is dissapointing that the Stanford researchers do not provide their placebo counties or their criteria for selecting them."
   ]
  },
  {
   "cell_type": "markdown",
   "metadata": {},
   "source": [
    "## Findings ##"
   ]
  },
  {
   "cell_type": "markdown",
   "metadata": {},
   "source": [
    "I found that in **39** counties, the number of deaths following a Trump rally increased, sometimes dramatically. In **25** counties, the number of deaths following a Trump rally decreased. And in **4** counties, the number of deaths stayed the same--that is, there were no deaths before or after the rally."
   ]
  },
  {
   "cell_type": "markdown",
   "metadata": {},
   "source": [
    "The following histogram shows the distributions of the percentages. From the histogram, you can see that the mean percentage increase is 140%. Note however, that while increases can go above 100%, decreases are capped at 100%, so this could account to some extent for the right-skewing of the histogram. Note also that the median at 14.2 is relatively close to zero, which reflects that subsequent to a fair percentage of the rallies COVID-19 deaths either decreased or stayed the same."
   ]
  },
  {
   "cell_type": "markdown",
   "metadata": {},
   "source": [
    "![](viz/hist-counties-by-percent-change.png)"
   ]
  },
  {
   "cell_type": "markdown",
   "metadata": {},
   "source": [
    "The following geospatial plot shows the distribution of the rallies in the United States and which rallies showed increases or decreases. Note that the plot seems to indicate clustering both at the state level (Arizona and Florida) and within states (Michigan, Pennsylvania, North Carolina)."
   ]
  },
  {
   "cell_type": "markdown",
   "metadata": {},
   "source": [
    "![](viz/geo-rallies-and-impact.png)"
   ]
  },
  {
   "cell_type": "markdown",
   "metadata": {},
   "source": [
    "The following time-series plot shows whether rallies at a particular point in time were followed by increases (red) or decreases (green) in COVID-19 deaths. Yellow indicates no change. From the plot, it appears that the number of rallies that result in increases is higher later in the year than earlier in the year. Also, the number of high-magnitude increases is somewhat greater toward the end of the year."
   ]
  },
  {
   "cell_type": "markdown",
   "metadata": {},
   "source": [
    "![](viz/trump-rallies-time-series.png)"
   ]
  },
  {
   "cell_type": "markdown",
   "metadata": {},
   "source": [
    "## Conclusions ##"
   ]
  },
  {
   "cell_type": "markdown",
   "metadata": {},
   "source": [
    "Overall, the findings appear to be inconclusive. \n",
    "\n",
    "I did find many (39) locations in which COVID-19 deaths increased in the aftermath of Trump campaign rallies--and in some cases, these increases were dramatic.\n",
    "\n",
    "However, there were also many locations (29) in which deaths stayed the same or declined.\n",
    "\n",
    "Also, the increases in the COVID-19 related deaths appear to be clustered which suggests that regional factors contributed to COVID-19 spread rather than (only) the Trump rally. Finally, COVID-19 related deaths following Trump rallies appear to increase with time, that is, they mirror the general progression of the pandemic, which again suggests that the Trump rally is not the (only) contributing factor.\n"
   ]
  },
  {
   "cell_type": "markdown",
   "metadata": {},
   "source": [
    "# Implementation #"
   ]
  },
  {
   "cell_type": "markdown",
   "metadata": {},
   "source": [
    "## Import required packages ##"
   ]
  },
  {
   "cell_type": "code",
   "execution_count": 543,
   "metadata": {},
   "outputs": [],
   "source": [
    "import os\n",
    "import datetime\n",
    "import re\n",
    "import geocoder\n",
    "import numpy as np\n",
    "import pandas as pd\n",
    "import descartes\n",
    "import geopandas as gpd\n",
    "from shapely.geometry import Point, Polygon\n",
    "from matplotlib import pyplot as plt"
   ]
  },
  {
   "cell_type": "markdown",
   "metadata": {},
   "source": [
    "## Import constants used in the code ##"
   ]
  },
  {
   "cell_type": "code",
   "execution_count": 544,
   "metadata": {},
   "outputs": [],
   "source": [
    "import constants"
   ]
  },
  {
   "cell_type": "markdown",
   "metadata": {},
   "source": [
    "## Show the constants ##"
   ]
  },
  {
   "cell_type": "code",
   "execution_count": 545,
   "metadata": {},
   "outputs": [
    {
     "name": "stdout",
     "output_type": "stream",
     "text": [
      "\r\n",
      "#\r\n",
      "# constants.py\r\n",
      "#\r\n",
      "TIME_INTERVAL = 42\r\n",
      "\r\n",
      "\r\n",
      "# --- END --- #\r\n",
      "\r\n"
     ]
    }
   ],
   "source": [
    "!cat constants.py"
   ]
  },
  {
   "cell_type": "markdown",
   "metadata": {},
   "source": [
    "## Read location data for Trump rallies ##"
   ]
  },
  {
   "cell_type": "code",
   "execution_count": 546,
   "metadata": {},
   "outputs": [],
   "source": [
    "trump_rallies = pd.read_csv('data/trump-rallies.csv', \n",
    "        sep=',', \n",
    "        comment='#',\n",
    "        skipinitialspace=True,\n",
    "        header=0,\n",
    "        na_values='?')"
   ]
  },
  {
   "cell_type": "markdown",
   "metadata": {},
   "source": [
    "### View the Trump rally data ###"
   ]
  },
  {
   "cell_type": "code",
   "execution_count": 547,
   "metadata": {},
   "outputs": [
    {
     "data": {
      "text/html": [
       "<div>\n",
       "<style scoped>\n",
       "    .dataframe tbody tr th:only-of-type {\n",
       "        vertical-align: middle;\n",
       "    }\n",
       "\n",
       "    .dataframe tbody tr th {\n",
       "        vertical-align: top;\n",
       "    }\n",
       "\n",
       "    .dataframe thead th {\n",
       "        text-align: right;\n",
       "    }\n",
       "</style>\n",
       "<table border=\"1\" class=\"dataframe\">\n",
       "  <thead>\n",
       "    <tr style=\"text-align: right;\">\n",
       "      <th></th>\n",
       "      <th>Date</th>\n",
       "      <th>City</th>\n",
       "      <th>State</th>\n",
       "    </tr>\n",
       "  </thead>\n",
       "  <tbody>\n",
       "    <tr>\n",
       "      <th>0</th>\n",
       "      <td>2020-06-20</td>\n",
       "      <td>Tulsa</td>\n",
       "      <td>OK</td>\n",
       "    </tr>\n",
       "    <tr>\n",
       "      <th>1</th>\n",
       "      <td>2020-06-23</td>\n",
       "      <td>Phoenix</td>\n",
       "      <td>AZ</td>\n",
       "    </tr>\n",
       "    <tr>\n",
       "      <th>2</th>\n",
       "      <td>2020-08-17</td>\n",
       "      <td>Mankato</td>\n",
       "      <td>MN</td>\n",
       "    </tr>\n",
       "    <tr>\n",
       "      <th>3</th>\n",
       "      <td>2020-08-17</td>\n",
       "      <td>Oshkosh</td>\n",
       "      <td>WI</td>\n",
       "    </tr>\n",
       "    <tr>\n",
       "      <th>4</th>\n",
       "      <td>2020-08-18</td>\n",
       "      <td>Yuma</td>\n",
       "      <td>AZ</td>\n",
       "    </tr>\n",
       "  </tbody>\n",
       "</table>\n",
       "</div>"
      ],
      "text/plain": [
       "         Date     City State\n",
       "0  2020-06-20    Tulsa    OK\n",
       "1  2020-06-23  Phoenix    AZ\n",
       "2  2020-08-17  Mankato    MN\n",
       "3  2020-08-17  Oshkosh    WI\n",
       "4  2020-08-18     Yuma    AZ"
      ]
     },
     "execution_count": 547,
     "metadata": {},
     "output_type": "execute_result"
    }
   ],
   "source": [
    "trump_rallies.head()"
   ]
  },
  {
   "cell_type": "code",
   "execution_count": 548,
   "metadata": {},
   "outputs": [
    {
     "data": {
      "text/html": [
       "<div>\n",
       "<style scoped>\n",
       "    .dataframe tbody tr th:only-of-type {\n",
       "        vertical-align: middle;\n",
       "    }\n",
       "\n",
       "    .dataframe tbody tr th {\n",
       "        vertical-align: top;\n",
       "    }\n",
       "\n",
       "    .dataframe thead th {\n",
       "        text-align: right;\n",
       "    }\n",
       "</style>\n",
       "<table border=\"1\" class=\"dataframe\">\n",
       "  <thead>\n",
       "    <tr style=\"text-align: right;\">\n",
       "      <th></th>\n",
       "      <th>Date</th>\n",
       "      <th>City</th>\n",
       "      <th>State</th>\n",
       "    </tr>\n",
       "  </thead>\n",
       "  <tbody>\n",
       "    <tr>\n",
       "      <th>63</th>\n",
       "      <td>2020-11-02</td>\n",
       "      <td>Fayetteville</td>\n",
       "      <td>NC</td>\n",
       "    </tr>\n",
       "    <tr>\n",
       "      <th>64</th>\n",
       "      <td>2020-11-02</td>\n",
       "      <td>Scranton</td>\n",
       "      <td>PA</td>\n",
       "    </tr>\n",
       "    <tr>\n",
       "      <th>65</th>\n",
       "      <td>2020-11-02</td>\n",
       "      <td>Traverse City</td>\n",
       "      <td>MI</td>\n",
       "    </tr>\n",
       "    <tr>\n",
       "      <th>66</th>\n",
       "      <td>2020-11-02</td>\n",
       "      <td>Kenosha</td>\n",
       "      <td>WI</td>\n",
       "    </tr>\n",
       "    <tr>\n",
       "      <th>67</th>\n",
       "      <td>2020-11-02</td>\n",
       "      <td>Grand Rapids</td>\n",
       "      <td>MI</td>\n",
       "    </tr>\n",
       "  </tbody>\n",
       "</table>\n",
       "</div>"
      ],
      "text/plain": [
       "          Date           City State\n",
       "63  2020-11-02   Fayetteville    NC\n",
       "64  2020-11-02       Scranton    PA\n",
       "65  2020-11-02  Traverse City    MI\n",
       "66  2020-11-02        Kenosha    WI\n",
       "67  2020-11-02   Grand Rapids    MI"
      ]
     },
     "execution_count": 548,
     "metadata": {},
     "output_type": "execute_result"
    }
   ],
   "source": [
    "trump_rallies.tail()"
   ]
  },
  {
   "cell_type": "markdown",
   "metadata": {},
   "source": [
    "## Use geocoding to obtain county locations for the Trump rallies ##"
   ]
  },
  {
   "cell_type": "code",
   "execution_count": 549,
   "metadata": {},
   "outputs": [
    {
     "data": {
      "text/plain": [
       "{'__type': 'Location:http://schemas.microsoft.com/search/local/ws/rest/v1',\n",
       " 'bbox': [36.95943832397461,\n",
       "  -76.6280288696289,\n",
       "  37.22066116333008,\n",
       "  -76.3875732421875],\n",
       " 'name': 'Newport News, VA',\n",
       " 'point': {'type': 'Point',\n",
       "  'coordinates': [36.97771453857422, -76.43035125732422]},\n",
       " 'address': {'adminDistrict': 'VA',\n",
       "  'adminDistrict2': 'Newport News City',\n",
       "  'countryRegion': 'United States',\n",
       "  'formattedAddress': 'Newport News, VA',\n",
       "  'locality': 'Newport News'},\n",
       " 'confidence': 'High',\n",
       " 'entityType': 'PopulatedPlace',\n",
       " 'geocodePoints': [{'type': 'Point',\n",
       "   'coordinates': [36.97771453857422, -76.43035125732422],\n",
       "   'calculationMethod': 'Rooftop',\n",
       "   'usageTypes': ['Display']}],\n",
       " 'matchCodes': ['Ambiguous']}"
      ]
     },
     "execution_count": 549,
     "metadata": {},
     "output_type": "execute_result"
    }
   ],
   "source": [
    "geocoder.bing( 'Newport News' + \", \" + 'VA', key=os.environ[ 'BING_API_KEY' ] ).json[ 'raw' ]"
   ]
  },
  {
   "cell_type": "code",
   "execution_count": 550,
   "metadata": {},
   "outputs": [
    {
     "data": {
      "text/plain": [
       "{'adminDistrict': 'VA',\n",
       " 'adminDistrict2': 'Newport News City',\n",
       " 'countryRegion': 'United States',\n",
       " 'formattedAddress': 'Newport News, VA',\n",
       " 'locality': 'Newport News'}"
      ]
     },
     "execution_count": 550,
     "metadata": {},
     "output_type": "execute_result"
    }
   ],
   "source": [
    "geocoder.bing( 'Newport News' + \", \" + 'VA', key=os.environ[ 'BING_API_KEY' ] ).json[ 'raw' ][ 'address' ]"
   ]
  },
  {
   "cell_type": "markdown",
   "metadata": {},
   "source": [
    "### Use `apply` to create an additional column with the county information ###"
   ]
  },
  {
   "cell_type": "code",
   "execution_count": null,
   "metadata": {},
   "outputs": [],
   "source": [
    "def gcode( row ):\n",
    "    g = geocoder.bing( row[ 'City' ] + \", \" + row[ 'State' ], key=os.environ[ 'BING_API_KEY' ] )\n",
    "    if 'adminDistrict2' in g.json[ 'raw' ][ 'address' ]:\n",
    "        county = g.json[ 'raw' ][ 'address' ][ 'adminDistrict2' ] \n",
    "        return( county )\n",
    "    else:\n",
    "        return( 'Sumpter County' )\n",
    "\n",
    "trump_rallies[ 'County' ] = trump_rallies.apply( gcode, axis = 1 )"
   ]
  },
  {
   "cell_type": "code",
   "execution_count": null,
   "metadata": {},
   "outputs": [],
   "source": [
    "trump_rallies.head()"
   ]
  },
  {
   "cell_type": "markdown",
   "metadata": {},
   "source": [
    "## Read time series data for COVID-19 deaths from the Johns-Hopkins repository ##"
   ]
  },
  {
   "cell_type": "code",
   "execution_count": null,
   "metadata": {},
   "outputs": [],
   "source": [
    "covid_19_time_series_by_county = pd.read_csv('data/time_series_covid19_deaths_US.csv', \n",
    "        sep=',', \n",
    "        comment='#',\n",
    "        skipinitialspace=True,\n",
    "        header=0,\n",
    "        na_values='?')"
   ]
  },
  {
   "cell_type": "markdown",
   "metadata": {},
   "source": [
    "### View the time series data ###"
   ]
  },
  {
   "cell_type": "code",
   "execution_count": null,
   "metadata": {},
   "outputs": [],
   "source": [
    "covid_19_time_series_by_county.head()"
   ]
  },
  {
   "cell_type": "code",
   "execution_count": null,
   "metadata": {},
   "outputs": [],
   "source": [
    "covid_19_time_series_by_county.tail()"
   ]
  },
  {
   "cell_type": "markdown",
   "metadata": {},
   "source": [
    "## Merge Trump rallies data with COVID-19 data ##"
   ]
  },
  {
   "cell_type": "markdown",
   "metadata": {},
   "source": [
    "We need to merge the dataframe that contains the Trump rally information with the dataframe that contains the COVID-19 deaths by county and date."
   ]
  },
  {
   "cell_type": "markdown",
   "metadata": {},
   "source": [
    "### The county column ( `Admin2`) contains many duplicates ###"
   ]
  },
  {
   "cell_type": "markdown",
   "metadata": {},
   "source": [
    "The `Admin2` column contains the county. However, we can't use it to merge because it contain many duplicates."
   ]
  },
  {
   "cell_type": "code",
   "execution_count": null,
   "metadata": {},
   "outputs": [],
   "source": [
    "len( covid_19_time_series_by_county.loc[ :, 'Admin2' ] ) - len( covid_19_time_series_by_county.loc[ :, 'Admin2' ].unique() )"
   ]
  },
  {
   "cell_type": "markdown",
   "metadata": {},
   "source": [
    "The `Combined_Key` column provides a _primary key_ that uniquely identifies each row."
   ]
  },
  {
   "cell_type": "code",
   "execution_count": null,
   "metadata": {},
   "outputs": [],
   "source": [
    "covid_19_time_series_by_county.loc[ :, 'Combined_Key' ]"
   ]
  },
  {
   "cell_type": "markdown",
   "metadata": {},
   "source": [
    "### Synthesize a key for the Trump rallies dataframe to use for merging ###"
   ]
  },
  {
   "cell_type": "markdown",
   "metadata": {},
   "source": [
    "Read in a dataset that maps from state names to state abbreviations."
   ]
  },
  {
   "cell_type": "code",
   "execution_count": null,
   "metadata": {},
   "outputs": [],
   "source": [
    "state_abbr = pd.read_csv('data/state-abbr.csv', \n",
    "        sep=',', \n",
    "        comment='#',\n",
    "        skipinitialspace=True,\n",
    "        header=0,\n",
    "        na_values='?')\n",
    "\n",
    "state_abbr.head()"
   ]
  },
  {
   "cell_type": "markdown",
   "metadata": {},
   "source": [
    "Create a dictionary from the two columns of our state/abbr dataframe."
   ]
  },
  {
   "cell_type": "code",
   "execution_count": null,
   "metadata": {},
   "outputs": [],
   "source": [
    "map_abbr_state = dict( zip( state_abbr.Abbr.str.strip(), state_abbr.State.str.strip() ) )\n",
    "\n",
    "map_abbr_state.keys()"
   ]
  },
  {
   "cell_type": "markdown",
   "metadata": {},
   "source": [
    "Test our dictionary."
   ]
  },
  {
   "cell_type": "code",
   "execution_count": null,
   "metadata": {},
   "outputs": [],
   "source": [
    "map_abbr_state[ 'VA' ]"
   ]
  },
  {
   "cell_type": "markdown",
   "metadata": {},
   "source": [
    "### Use `apply` to add a `Combined_Key` column to the Trump rallies dataframe ###"
   ]
  },
  {
   "cell_type": "code",
   "execution_count": null,
   "metadata": {
    "scrolled": true
   },
   "outputs": [],
   "source": [
    "def create_combined_key_for_trump( row ):\n",
    "    combined = row[ 'County' ][ 0:-6 ].rstrip() + \", \" + map_abbr_state[ row[ 'State' ] ] + \", \" + 'US'\n",
    "    return combined\n",
    "\n",
    "trump_rallies[ 'Combined_Key' ] = trump_rallies.apply( create_combined_key_for_trump, axis = 1 )\n",
    "\n",
    "trump_rallies.head()"
   ]
  },
  {
   "cell_type": "markdown",
   "metadata": {},
   "source": [
    "### Remove unneeded columns from COVID-19 dataframe prior to merge ###"
   ]
  },
  {
   "cell_type": "code",
   "execution_count": null,
   "metadata": {},
   "outputs": [],
   "source": [
    "covid_19_time_series_by_county.drop( [ 'UID', 'iso2', 'iso3', 'code3', 'FIPS', 'Admin2', 'Province_State', 'Country_Region' ] , axis = 1, inplace = True )\n",
    "covid_19_time_series_by_county.head()"
   ]
  },
  {
   "cell_type": "markdown",
   "metadata": {},
   "source": [
    "### Perform the merge on the the `Combined_Key` column ###"
   ]
  },
  {
   "cell_type": "markdown",
   "metadata": {},
   "source": [
    "Because this is a _left merge_, it removes any data coming in from the COVID-19 dataframe that is not relevant to the Trump rallies."
   ]
  },
  {
   "cell_type": "code",
   "execution_count": null,
   "metadata": {},
   "outputs": [],
   "source": [
    "trump_rallies = trump_rallies.merge( covid_19_time_series_by_county, how = \"left\", on = \"Combined_Key\")\n",
    "\n",
    "trump_rallies.head()"
   ]
  },
  {
   "cell_type": "markdown",
   "metadata": {},
   "source": [
    "## Derive a table that has only the COVID-19 deaths by rally location ##"
   ]
  },
  {
   "cell_type": "markdown",
   "metadata": {},
   "source": [
    "Drop columns that are unecessary for this table"
   ]
  },
  {
   "cell_type": "code",
   "execution_count": null,
   "metadata": {},
   "outputs": [],
   "source": [
    "covid_19_deaths_by_rally = trump_rallies.drop( [\"Date\", \"City\", \"State\", \"County\", \"Lat\", \"Long_\", \"Population\" ], axis = 1 )\n",
    "covid_19_deaths_by_rally.head()"
   ]
  },
  {
   "cell_type": "markdown",
   "metadata": {},
   "source": [
    "### Remove duplicate rows from dataframe ###"
   ]
  },
  {
   "cell_type": "markdown",
   "metadata": {},
   "source": [
    "Trump visited the following counties more than once, which creates duplicate rows in the dataframe.\n",
    "\n",
    "- Maricopa, Arizona, US\n",
    "- Douglas, Nevada, US\n",
    "- Cumberland, North Carolina, US"
   ]
  },
  {
   "cell_type": "code",
   "execution_count": null,
   "metadata": {},
   "outputs": [],
   "source": [
    "len( covid_19_deaths_by_rally ) - len( covid_19_deaths_by_rally.drop_duplicates() )"
   ]
  },
  {
   "cell_type": "markdown",
   "metadata": {},
   "source": [
    "Drop those duplicate rows."
   ]
  },
  {
   "cell_type": "code",
   "execution_count": null,
   "metadata": {},
   "outputs": [],
   "source": [
    "covid_19_deaths_by_rally.drop_duplicates( inplace = True )\n",
    "len( covid_19_deaths_by_rally ) - len( covid_19_deaths_by_rally.drop_duplicates() )"
   ]
  },
  {
   "cell_type": "markdown",
   "metadata": {},
   "source": [
    "### Repair the index after dropping duplicate rows ###"
   ]
  },
  {
   "cell_type": "markdown",
   "metadata": {},
   "source": [
    "Dropping rows leaves gaps in the index. For example, note that `29` is missing below. "
   ]
  },
  {
   "cell_type": "code",
   "execution_count": null,
   "metadata": {},
   "outputs": [],
   "source": [
    "covid_19_deaths_by_rally.index"
   ]
  },
  {
   "cell_type": "markdown",
   "metadata": {},
   "source": [
    "Renumber the index."
   ]
  },
  {
   "cell_type": "code",
   "execution_count": null,
   "metadata": {},
   "outputs": [],
   "source": [
    "covid_19_deaths_by_rally.set_index( pd.Int64Index( range( covid_19_deaths_by_rally.shape[ 0 ] ) ), inplace = True )\n",
    "covid_19_deaths_by_rally.index"
   ]
  },
  {
   "cell_type": "markdown",
   "metadata": {},
   "source": [
    "## Reconfigure dataframe so that counties are columns and dates are rows ##"
   ]
  },
  {
   "cell_type": "markdown",
   "metadata": {},
   "source": [
    "Swap the rows and columns"
   ]
  },
  {
   "cell_type": "code",
   "execution_count": null,
   "metadata": {},
   "outputs": [],
   "source": [
    "covid_19_deaths_by_rally = covid_19_deaths_by_rally.transpose()\n",
    "covid_19_deaths_by_rally.head()"
   ]
  },
  {
   "cell_type": "markdown",
   "metadata": {},
   "source": [
    "Use the first row as the column labels"
   ]
  },
  {
   "cell_type": "code",
   "execution_count": null,
   "metadata": {},
   "outputs": [],
   "source": [
    "covid_19_deaths_by_rally.columns = covid_19_deaths_by_rally.iloc[0]\n",
    "covid_19_deaths_by_rally.drop(covid_19_deaths_by_rally.index[0], inplace = True )\n",
    "covid_19_deaths_by_rally.head()"
   ]
  },
  {
   "cell_type": "markdown",
   "metadata": {},
   "source": [
    "Fix up name of first column. View the tail of the dataframe so we can see the number of deaths at the end of the time interval."
   ]
  },
  {
   "cell_type": "code",
   "execution_count": null,
   "metadata": {},
   "outputs": [],
   "source": [
    "covid_19_deaths_by_rally.columns.name = \"\"\n",
    "covid_19_deaths_by_rally.tail()"
   ]
  },
  {
   "cell_type": "markdown",
   "metadata": {},
   "source": [
    "## Use same date format (ISO 8601) for both Trump rallies and COVID-19 times series data ##"
   ]
  },
  {
   "cell_type": "markdown",
   "metadata": {},
   "source": [
    "The Trump rallies dataframe uses dates in ISO 8601 format. Convert the dates in the COVID-19 deaths table to use the same format."
   ]
  },
  {
   "cell_type": "code",
   "execution_count": null,
   "metadata": {},
   "outputs": [],
   "source": [
    "def convert_to_iso( string ):\n",
    "    m = re.match( '(\\d*)/(\\d*)/(\\d*)', string )\n",
    "    my_date = datetime.date( int( '20' + m.group( 3 ) ), int( m.group( 1 ) ), int( m.group( 2 ) ) )\n",
    "    return( my_date.isoformat() )\n",
    "\n",
    "#\n",
    "# Get the current index\n",
    "#\n",
    "date_index = covid_19_deaths_by_rally.index\n",
    "\n",
    "#\n",
    "# Convert it to ISO 8601\n",
    "#\n",
    "iso_index = date_index.map( convert_to_iso )\n",
    "\n",
    "#\n",
    "# Replace the index in the dataframe with the converted index\n",
    "#\n",
    "covid_19_deaths_by_rally.index = iso_index\n",
    "\n",
    "covid_19_deaths_by_rally.head()"
   ]
  },
  {
   "cell_type": "markdown",
   "metadata": {},
   "source": [
    "## Remove the COVID-19 deaths from the Trump rallies table ##"
   ]
  },
  {
   "cell_type": "code",
   "execution_count": null,
   "metadata": {},
   "outputs": [],
   "source": [
    "trump_rallies.drop( trump_rallies.iloc[:, 8:], axis = 1, inplace = True )\n",
    "\n",
    "trump_rallies.head()"
   ]
  },
  {
   "cell_type": "markdown",
   "metadata": {},
   "source": [
    "## Convert COVID-19 accumulated deaths to death per day ##"
   ]
  },
  {
   "cell_type": "markdown",
   "metadata": {},
   "source": [
    "The time series data from Johns-Hopkins is cumulative. We want the number of deaths on a particular day, rather than the total number of deaths up until that day. Use the `.diff()` method to get the differences between each row in the dataframe."
   ]
  },
  {
   "cell_type": "code",
   "execution_count": null,
   "metadata": {},
   "outputs": [],
   "source": [
    "covid_19_deaths_by_rally_no_accumulate = covid_19_deaths_by_rally.diff(periods=1, axis=0)"
   ]
  },
  {
   "cell_type": "code",
   "execution_count": null,
   "metadata": {},
   "outputs": [],
   "source": [
    "covid_19_deaths_by_rally.tail()"
   ]
  },
  {
   "cell_type": "code",
   "execution_count": null,
   "metadata": {},
   "outputs": [],
   "source": [
    "covid_19_deaths_by_rally_no_accumulate.tail()"
   ]
  },
  {
   "cell_type": "code",
   "execution_count": null,
   "metadata": {},
   "outputs": [],
   "source": [
    "my_date = datetime.date(2020, 12,14)\n",
    "time_interval = datetime.timedelta( days = constants.TIME_INTERVAL )\n",
    "\n",
    "rally_date_str = trump_rallies.loc[ 1, 'Date']\n",
    "\n",
    "before_date_str = ( my_date.fromisoformat( rally_date_str ) - time_interval ).isoformat()\n",
    "after_date_str = ( my_date.fromisoformat( rally_date_str ) + time_interval ).isoformat()"
   ]
  },
  {
   "cell_type": "markdown",
   "metadata": {},
   "source": [
    "## Use `apply` to create three new columns: Deaths prior, deaths after, and percentage change ##"
   ]
  },
  {
   "cell_type": "markdown",
   "metadata": {},
   "source": [
    "### Deaths each day for `TIME_INTERVAL` days _prior_ to Trump's rally ###"
   ]
  },
  {
   "cell_type": "code",
   "execution_count": null,
   "metadata": {},
   "outputs": [],
   "source": [
    "def deaths_prior( row ):\n",
    "    time_interval = datetime.timedelta( days = constants.TIME_INTERVAL )\n",
    "    rally_date_str = row[ 'Date'] \n",
    "    before_date_str = ( my_date.fromisoformat( rally_date_str ) - time_interval ).isoformat()\n",
    "    return( covid_19_deaths_by_rally_no_accumulate.loc[ :, row[ 'Combined_Key' ] ].loc[ before_date_str:rally_date_str ].sum() )\n",
    "\n",
    "trump_rallies[ \"deaths_prior\" ] = trump_rallies.apply( deaths_prior, axis = 1 )"
   ]
  },
  {
   "cell_type": "markdown",
   "metadata": {},
   "source": [
    "### Deaths each day for `TIME_INTERVAL` days _after_ Trump's rally ###"
   ]
  },
  {
   "cell_type": "code",
   "execution_count": null,
   "metadata": {},
   "outputs": [],
   "source": [
    "def deaths_after( row ):\n",
    "    time_interval = datetime.timedelta( days = constants.TIME_INTERVAL )\n",
    "    rally_date_str = row[ 'Date'] \n",
    "    after_date_str = ( my_date.fromisoformat( rally_date_str ) + time_interval ).isoformat()\n",
    "    return( covid_19_deaths_by_rally_no_accumulate.loc[ :, row[ 'Combined_Key' ] ].loc[ rally_date_str:after_date_str ].sum() )\n",
    "\n",
    "trump_rallies[ \"deaths_after\" ] = trump_rallies.apply( deaths_after, axis = 1 )"
   ]
  },
  {
   "cell_type": "markdown",
   "metadata": {},
   "source": [
    "### Percentage change in deaths from before Trump's rally to after  ###"
   ]
  },
  {
   "cell_type": "code",
   "execution_count": null,
   "metadata": {},
   "outputs": [],
   "source": [
    "def percent_change( row ):\n",
    "    deaths_prior = row[ \"deaths_prior\" ]\n",
    "    deaths_after = row[ \"deaths_after\" ]\n",
    "    if ( (deaths_prior) == (deaths_after) ):\n",
    "        return( 0 )\n",
    "    if ( deaths_prior < deaths_after ):\n",
    "        change = ( deaths_after - deaths_prior ) / ( 1 if deaths_prior == 0 else deaths_prior )\n",
    "    else:\n",
    "        change = (-1) * ( deaths_prior - deaths_after ) / ( 1 if deaths_prior == 0 else deaths_prior )                 \n",
    "    return( round( change * 100, 2 ) )\n",
    "    \n",
    "trump_rallies[ \"percent_change\" ] = trump_rallies.apply( percent_change, axis = 1 )"
   ]
  },
  {
   "cell_type": "markdown",
   "metadata": {},
   "source": [
    "## View the entire table ##"
   ]
  },
  {
   "cell_type": "code",
   "execution_count": null,
   "metadata": {},
   "outputs": [],
   "source": [
    "trump_rallies.head( 35 )"
   ]
  },
  {
   "cell_type": "code",
   "execution_count": null,
   "metadata": {},
   "outputs": [],
   "source": [
    "trump_rallies.tail( 35 )"
   ]
  },
  {
   "cell_type": "markdown",
   "metadata": {},
   "source": [
    "### Number of counties where COVID-19 deaths increased ###"
   ]
  },
  {
   "cell_type": "code",
   "execution_count": null,
   "metadata": {},
   "outputs": [],
   "source": [
    "trump_rallies[ trump_rallies[ \"percent_change\" ] > 0 ][ \"percent_change\" ].count()"
   ]
  },
  {
   "cell_type": "markdown",
   "metadata": {},
   "source": [
    "\n",
    "### Number of counties where COVID-19 deaths decreased ###"
   ]
  },
  {
   "cell_type": "code",
   "execution_count": null,
   "metadata": {},
   "outputs": [],
   "source": [
    "trump_rallies[ trump_rallies[ \"percent_change\" ] < 0 ][ \"percent_change\" ].count()"
   ]
  },
  {
   "cell_type": "markdown",
   "metadata": {},
   "source": [
    "### Number of counties where COVID-19 deaths stayed the same ###"
   ]
  },
  {
   "cell_type": "code",
   "execution_count": null,
   "metadata": {},
   "outputs": [],
   "source": [
    "trump_rallies[ trump_rallies[ \"percent_change\" ] == 0 ][ \"percent_change\" ].count()"
   ]
  },
  {
   "cell_type": "markdown",
   "metadata": {},
   "source": [
    "## Histogram to see distribution of percentages ##"
   ]
  },
  {
   "cell_type": "code",
   "execution_count": null,
   "metadata": {},
   "outputs": [],
   "source": [
    "figure_size = [ 18, 5 ]\n",
    "fig_1, ax = plt.subplots()\n",
    "\n",
    "trump_rallies[ 'percent_change' ].hist( figsize = figure_size )\n",
    "\n",
    "plt.ylabel(\"Number of counties\",fontsize=12)\n",
    "plt.xlabel(\"Percentage change\",fontsize=12)\n",
    "# plt.title('Post-Rally COVID-19 Spread', fontsize=15)\n",
    "#\n",
    "# Summary statistics: mean and std\n",
    "#\n",
    "mean_change = trump_rallies[ 'percent_change' ].mean()\n",
    "std_change = trump_rallies[ 'percent_change' ].std()\n",
    "median_change = trump_rallies[ 'percent_change' ].median()\n",
    "\n",
    "s = \"Median: {0:.3}\\nMean: {1:.3}\\nStd: {2:.3}\".format( median_change, mean_change, std_change)\n",
    "plt.text(1200, 22, s )\n",
    "\n",
    "#\n",
    "# Indicate mean and std with vertical lines\n",
    "#\n",
    "plt.axvline(x=median_change, color='orange', linewidth = 4)\n",
    "plt.axvline(x=mean_change, color='red', linewidth = 4)\n",
    "plt.axvline(x=mean_change + std_change, color='green', linewidth = 4)\n",
    "plt.axvline(x=mean_change - std_change, color='green', linewidth = 4)"
   ]
  },
  {
   "cell_type": "markdown",
   "metadata": {},
   "source": [
    "**Persist** this figure and the augmented dataframe for Trump's rallies."
   ]
  },
  {
   "cell_type": "code",
   "execution_count": null,
   "metadata": {},
   "outputs": [],
   "source": [
    "fig_1.savefig( \"viz/hist-counties-by-percent-change.png\", bbox_inches = 'tight' )\n",
    "trump_rallies.to_csv( 'data/trump-rallies-augmented.csv', index_label = 'Id' )"
   ]
  },
  {
   "cell_type": "markdown",
   "metadata": {},
   "source": [
    "## Geospatial plots ##"
   ]
  },
  {
   "cell_type": "markdown",
   "metadata": {},
   "source": [
    "Derive a smaller geo-dataframe that we will use for the geospatial plot."
   ]
  },
  {
   "cell_type": "code",
   "execution_count": null,
   "metadata": {},
   "outputs": [],
   "source": [
    "#\n",
    "# Drop unecessary columns\n",
    "#\n",
    "trump_rally_locations = trump_rallies.drop( [\"Date\", \"State\", \"County\", \"Combined_Key\", \"Population\", \"deaths_prior\", \"deaths_after\" ], axis = 1 )\n",
    "\n",
    "# \n",
    "# Create mappable Points from the Lat and Long_ columns\n",
    "#\n",
    "trump_rally_geo_points = [Point( xy ) for xy in zip( trump_rally_locations[ \"Long_\" ], trump_rally_locations[ \"Lat\" ] ) ]\n",
    "\n",
    "#\n",
    "# Create the geo-dataframe using geopandas\n",
    "#\n",
    "trump_rally_locations_geo = gpd.GeoDataFrame( trump_rally_locations, crs = \"EPSG:4326\", geometry = trump_rally_geo_points )\n",
    "\n",
    "trump_rally_locations_geo.head()"
   ]
  },
  {
   "cell_type": "code",
   "execution_count": null,
   "metadata": {},
   "outputs": [],
   "source": [
    "#\n",
    "# Create the base plot\n",
    "#\n",
    "fig, ax = plt.subplots( figsize = ( 30, 30 ))\n",
    "\n",
    "#\n",
    "# Plot the US map\n",
    "#\n",
    "us_map = gpd.read_file( \"data/tl_2019_us_state/tl_2019_us_state.shp\" )\n",
    "us_map.plot( ax = ax, color = \"#C1CDCD\", alpha = 0.9, edgecolor = \"black\" )\n",
    "\n",
    "#\n",
    "# Scope the plot to show only the continental US\n",
    "#\n",
    "ax.set_xlim(-128, -65)\n",
    "ax.set_ylim(22, 51)\n",
    "\n",
    "#\n",
    "# Add the colored data points\n",
    "#\n",
    "trump_rally_locations_geo[ trump_rally_locations_geo[ \"percent_change\" ] > 0 ].plot( ax = ax, color = \"red\", label = \"Increase\" )\n",
    "trump_rally_locations_geo[ trump_rally_locations_geo[ \"percent_change\" ] < 0 ].plot( ax = ax, color = \"green\", label = \"Decrease\" )\n",
    "trump_rally_locations_geo[ trump_rally_locations_geo[ \"percent_change\" ] == 0 ].plot( ax = ax, color = \"yellow\", label = \"No change\" )\n",
    "\n",
    "#\n",
    "# Add the legend\n",
    "#\n",
    "plt.legend( prop = {'size':15})\n"
   ]
  },
  {
   "cell_type": "markdown",
   "metadata": {},
   "source": [
    "**Persist** this figure and the data."
   ]
  },
  {
   "cell_type": "code",
   "execution_count": null,
   "metadata": {},
   "outputs": [],
   "source": [
    "fig.savefig( \"viz/geo-rallies-and-impact.png\", bbox_inches = 'tight' )\n",
    "trump_rally_locations.to_csv( 'data/trump-rally-locations.csv', index_label = 'Id' )"
   ]
  },
  {
   "cell_type": "markdown",
   "metadata": {},
   "source": [
    "## Time series plot for Trump rallies ##"
   ]
  },
  {
   "cell_type": "markdown",
   "metadata": {},
   "source": [
    "Derive a new dataframe to use for a time-series plot."
   ]
  },
  {
   "cell_type": "code",
   "execution_count": null,
   "metadata": {},
   "outputs": [],
   "source": [
    "#\n",
    "# Drop unecessary columns\n",
    "#\n",
    "trump_rallies_time_series = trump_rallies.drop( [ \"Population\", \"Lat\", \"Long_\", \"deaths_prior\", \"deaths_after\" ], axis = 1 )\n",
    "\n",
    "#\n",
    "# Use `apply` to add a new columns for the colors of the marks \n",
    "#\n",
    "def rally_colors( row ):\n",
    "    if row[ \"percent_change\" ] < 0:\n",
    "        return( \"green\" )\n",
    "    elif row[ \"percent_change\" ] > 0:\n",
    "        return( \"red\" )\n",
    "    elif row[ \"percent_change\" ] == 0:\n",
    "        return( \"black\" )\n",
    "    \n",
    "trump_rallies_time_series[ \"mark_color\" ] = trump_rally_time_series.apply( rally_colors, axis = 1 )\n",
    "\n",
    "trump_rallies_time_series.head()"
   ]
  },
  {
   "cell_type": "code",
   "execution_count": null,
   "metadata": {},
   "outputs": [],
   "source": [
    "ax = trump_rallies_time_series.plot.scatter( x = \"Date\", y = \"percent_change\", s = 75, color=trump_rallies_time_series[ \"mark_color\" ], figsize = ( 30, 10 ), grid = True, rot = 90 )"
   ]
  },
  {
   "cell_type": "code",
   "execution_count": null,
   "metadata": {},
   "outputs": [],
   "source": [
    "ax.figure.savefig( \"viz/trump-rallies-time-series.png\", bbox_inches = 'tight')\n",
    "trump_rallies_time_series.to_csv( \"data/trump-rallies-times-series.csv\" )"
   ]
  },
  {
   "cell_type": "markdown",
   "metadata": {},
   "source": [
    "# Acknowledgements #\n",
    "\n",
    "Resources that I learned from while producing this notebook."
   ]
  },
  {
   "cell_type": "markdown",
   "metadata": {},
   "source": [
    "## Constants in Python ##\n",
    "Guidance on emulating constants in Python from Jonathan Hsu at [Medium](https://medium.com/better-programming/does-python-have-constants-3b8249dc8b7b)"
   ]
  },
  {
   "cell_type": "markdown",
   "metadata": {},
   "source": [
    "## GeoPandas ##\n",
    "\n",
    "_GeoPandas 101: Plot any data with a latitude and longitude on a map_ by Ryan Stewart at [TowardsDataScience](https://towardsdatascience.com/geopandas-101-plot-any-data-with-a-latitude-and-longitude-on-a-map-98e01944b972)\n",
    "\n",
    "GeoPandas install [documentation](https://geopandas.org/install.html)"
   ]
  },
  {
   "cell_type": "markdown",
   "metadata": {},
   "source": [
    "### --- END --- ###"
   ]
  }
 ],
 "metadata": {
  "jupytext": {
   "formats": "ipynb,md,py:percent"
  },
  "kernelspec": {
   "display_name": "Python 3",
   "language": "python",
   "name": "python3"
  },
  "language_info": {
   "codemirror_mode": {
    "name": "ipython",
    "version": 3
   },
   "file_extension": ".py",
   "mimetype": "text/x-python",
   "name": "python",
   "nbconvert_exporter": "python",
   "pygments_lexer": "ipython3",
   "version": "3.9.1"
  }
 },
 "nbformat": 4,
 "nbformat_minor": 4
}
